{
 "cells": [
  {
   "cell_type": "markdown",
   "metadata": {},
   "source": [
    "# Importing libraries"
   ]
  },
  {
   "cell_type": "code",
   "execution_count": null,
   "metadata": {},
   "outputs": [],
   "source": [
    "import os, glob, csv, subprocess, sys, re, operator\n",
    "from git import *\n",
    "from subprocess import Popen, PIPE\n",
    "from os import path\n",
    "import pandas as pd"
   ]
  },
  {
   "cell_type": "markdown",
   "metadata": {},
   "source": [
    "# Configure repository and directories"
   ]
  },
  {
   "cell_type": "code",
   "execution_count": null,
   "metadata": {},
   "outputs": [],
   "source": [
    "userhome = os.path.expanduser('~')\n",
    "txt_file = open(userhome + r\"/DifferentDiffAlgorithms/SZZ/code_document/project_identity.txt\", \"r\")\n",
    "pid = txt_file.read().split('\\n')\n",
    "project = pid[0]\n",
    "bugidentifier = pid[1]\n",
    "repository = userhome + r'/DifferentDiffAlgorithms/SZZ/datasource/' + project + '/'\n",
    "analyze_dir = userhome + r'/DifferentDiffAlgorithms/SZZ/projects_analyses/' + project + '/'\n",
    "\n",
    "print (\"Project name = %s\" % project)\n",
    "print (\"Project key = %s\" % bugidentifier)"
   ]
  },
  {
   "cell_type": "markdown",
   "metadata": {},
   "source": [
    "# Defining function to execute git command"
   ]
  },
  {
   "cell_type": "code",
   "execution_count": null,
   "metadata": {},
   "outputs": [],
   "source": [
    "def execute_command(cmd, work_dir):\n",
    "   #Executes a shell command in a subprocess, waiting until it has completed.\n",
    "    pipe = subprocess.Popen(cmd, shell=True, cwd=work_dir, stdout=subprocess.PIPE, stderr=subprocess.PIPE)\n",
    "    (out, error) = pipe.communicate()\n",
    "    return out, error\n",
    "    pipe.wait()"
   ]
  },
  {
   "cell_type": "markdown",
   "metadata": {},
   "source": [
    "# Loading the files data "
   ]
  },
  {
   "cell_type": "code",
   "execution_count": null,
   "metadata": {},
   "outputs": [],
   "source": [
    "fields = ['bug_id','bugfix_commitID','parent_id','status','filename']"
   ]
  },
  {
   "cell_type": "code",
   "execution_count": null,
   "metadata": {
    "scrolled": true
   },
   "outputs": [],
   "source": [
    "dtfiles = pd.read_csv(analyze_dir + \"02_diff_extraction/01_modified_files/allmodified_files.csv\")\n",
    "dtfiles = dtfiles[fields]\n",
    "dtfiles"
   ]
  },
  {
   "cell_type": "markdown",
   "metadata": {},
   "source": [
    "# Extract the frequency of deleted lines"
   ]
  },
  {
   "cell_type": "code",
   "execution_count": null,
   "metadata": {},
   "outputs": [],
   "source": [
    "algorithms = ['myers','histogram']"
   ]
  },
  {
   "cell_type": "code",
   "execution_count": null,
   "metadata": {},
   "outputs": [],
   "source": [
    "buggylinefiles = []\n",
    "for n in range(0,len(algorithms)):\n",
    "    bf = []\n",
    "    for aa in range(0,len(dtfiles)):\n",
    "        sys.stdout.write('\\r%i: ' %(n+1) + ' Extracting data: %i' %(aa+1))\n",
    "        sys.stdout.flush()\n",
    "        \n",
    "        del_count = \"git diff -w --ignore-blank-lines --diff-algorithm=\" + algorithms[n] + \" \" + dtfiles.iloc[aa][2] + \" \" + dtfiles.iloc[aa][1] + \" -- \" + dtfiles.iloc[aa][4] + \" | grep '^[-]' | grep -Ev '^(--- a/|\\+\\+\\+ b/)' | wc -l\"\n",
    "        del_num = re.search(\"(\\d+)\",str(execute_command(del_count, repository)))\n",
    "        del_num = int(del_num.group())\n",
    "\n",
    "        zzz = [dtfiles.iloc[aa][0], dtfiles.iloc[aa][1], dtfiles.iloc[aa][2], dtfiles.iloc[aa][4], del_num]\n",
    "        bf.append(zzz)\n",
    "        \n",
    "    buggylinefiles.append(bf)\n",
    "print('\\nExtraction is complete')"
   ]
  },
  {
   "cell_type": "code",
   "execution_count": null,
   "metadata": {},
   "outputs": [],
   "source": [
    "head = ['bug_id','bugfix_commitID','parent_id','filepath','#deletions']\n",
    "for nn, algo in enumerate(algorithms):\n",
    "    with open (analyze_dir + '02_diff_extraction/02_list_of_file_with_number_of_deletedlines/' + algo + '_buggylines_files.csv','w') as csvfile:\n",
    "        writers = csv.writer(csvfile, delimiter=',')\n",
    "        writers.writerow(head)\n",
    "        for item in buggylinefiles[nn]:\n",
    "            writers.writerow(item)\n",
    "print (\"The csv file has been created\")"
   ]
  },
  {
   "cell_type": "markdown",
   "metadata": {},
   "source": [
    "# Merge 2 datasets of modified files that have deleted lines"
   ]
  },
  {
   "cell_type": "code",
   "execution_count": null,
   "metadata": {
    "scrolled": true
   },
   "outputs": [],
   "source": [
    "diffmyers = pd.read_csv(analyze_dir + '02_diff_extraction/02_list_of_file_with_number_of_deletedlines/myers_buggylines_files.csv')\n",
    "diffmyers = diffmyers[head][diffmyers[head]['#deletions'] != 0]\n",
    "\n",
    "diffhist = pd.read_csv(analyze_dir + '02_diff_extraction/02_list_of_file_with_number_of_deletedlines/histogram_buggylines_files.csv')\n",
    "diffhist = diffhist[head][diffhist[head]['#deletions'] != 0]"
   ]
  },
  {
   "cell_type": "code",
   "execution_count": null,
   "metadata": {},
   "outputs": [],
   "source": [
    "df_merge = diffmyers.merge(diffhist, on=['bug_id','bugfix_commitID','parent_id','filepath'], \n",
    "                                        how='outer', suffixes=('_myers', '_histogram'))\n",
    "df_merge.fillna(0, inplace=True)"
   ]
  },
  {
   "cell_type": "code",
   "execution_count": null,
   "metadata": {},
   "outputs": [],
   "source": [
    "cols = ['bug_id','bugfix_commitID','parent_id','filepath','#deletions_myers','#deletions_histogram']\n",
    "df_merge = df_merge[cols]\n",
    "df_merge.drop_duplicates(subset=None, inplace=True)\n",
    "df_merge"
   ]
  },
  {
   "cell_type": "markdown",
   "metadata": {
    "collapsed": true
   },
   "source": [
    "# Deleted lines extraction"
   ]
  },
  {
   "cell_type": "code",
   "execution_count": null,
   "metadata": {},
   "outputs": [],
   "source": [
    "del_files = []\n",
    "for aa in range(0,len(df_merge)):\n",
    "    sys.stdout.write('\\rExtracting data: %i' %(aa+1))\n",
    "    sys.stdout.flush()\n",
    "\n",
    "    f_names = \"_\" + ((df_merge.iloc[aa][3].split('/'))[-1:])[0] + \"_\"+ df_merge.iloc[aa][1] + \"-\" + df_merge.iloc[aa][2][:10] + \"_\" + df_merge.iloc[aa][0] + \"_\" + str(aa+1)\n",
    "\n",
    "    delmyers_num = df_merge.iloc[aa][4]\n",
    "    if delmyers_num != 0:\n",
    "        m_name = f_names + \"_myersbuglines_\" + str(aa+1) + \".diff\"\n",
    "        myers_name = analyze_dir + \"02_diff_extraction/03_file_having_deletedlines/myers/\" + m_name\n",
    "        diff_cmd = \"git diff -w --ignore-blank-lines --diff-algorithm=myers \" + df_merge.iloc[aa][2] + \" \" + df_merge.iloc[aa][1] + \" -- \" + df_merge.iloc[aa][3] + \" | grep '^[-]' | grep -Ev '^(--- a/|\\+\\+\\+ b/)' > \" + myers_name\n",
    "        execute_command(diff_cmd, repository)\n",
    "    else:\n",
    "        m_name = \"-\"\n",
    "        \n",
    "    delhist_num = df_merge.iloc[aa][5]\n",
    "    if delhist_num != 0:\n",
    "        h_name = f_names + \"_histogrambuglines_\" + str(aa+1) + \".diff\"\n",
    "        hist_name = analyze_dir + \"02_diff_extraction/03_file_having_deletedlines/histogram/\" + h_name \n",
    "        diff_cmd = \"git diff -w --ignore-blank-lines --diff-algorithm=histogram \" + df_merge.iloc[aa][2] + \" \" + df_merge.iloc[aa][1] + \" -- \" + df_merge.iloc[aa][3] + \" | grep '^[-]' | grep -Ev '^(--- a/|\\+\\+\\+ b/)' > \" + hist_name\n",
    "        execute_command(diff_cmd, repository)\n",
    "    else:\n",
    "        h_name = \"-\"\n",
    "\n",
    "    zzz = [df_merge.iloc[aa][0], df_merge.iloc[aa][1], df_merge.iloc[aa][2], df_merge.iloc[aa][3], m_name, h_name, df_merge.iloc[aa][4], df_merge.iloc[aa][5]]\n",
    "    del_files.append(zzz)\n",
    "print('\\nExtraction is complete')"
   ]
  },
  {
   "cell_type": "code",
   "execution_count": null,
   "metadata": {},
   "outputs": [],
   "source": [
    "header = ['bug_id','bugfix_commitID','parent_id','filepath','filename_myers','filename_histogram','#deletions_myers','#deletions_histogram']\n",
    "with open (analyze_dir + '02_diff_extraction/03_file_having_deletedlines/buggyfiles_from_both_algorithms.csv','w') as csvfile:\n",
    "    writers = csv.writer(csvfile, delimiter=',')\n",
    "    writers.writerow(header)\n",
    "    for item in del_files:\n",
    "        writers.writerow(item)\n",
    "print (\"The csv file has been created\")"
   ]
  },
  {
   "cell_type": "code",
   "execution_count": null,
   "metadata": {},
   "outputs": [],
   "source": []
  }
 ],
 "metadata": {
  "kernelspec": {
   "display_name": "Python 3",
   "language": "python",
   "name": "python3"
  },
  "language_info": {
   "codemirror_mode": {
    "name": "ipython",
    "version": 3
   },
   "file_extension": ".py",
   "mimetype": "text/x-python",
   "name": "python",
   "nbconvert_exporter": "python",
   "pygments_lexer": "ipython3",
   "version": "3.7.1"
  }
 },
 "nbformat": 4,
 "nbformat_minor": 2
}
