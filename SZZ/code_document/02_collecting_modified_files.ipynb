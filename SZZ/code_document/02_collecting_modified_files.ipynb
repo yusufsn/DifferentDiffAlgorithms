{
 "cells": [
  {
   "cell_type": "markdown",
   "metadata": {},
   "source": [
    "# Importing libraries"
   ]
  },
  {
   "cell_type": "code",
   "execution_count": null,
   "metadata": {},
   "outputs": [],
   "source": [
    "import os, glob, csv, subprocess, sys, re\n",
    "from git import *\n",
    "from subprocess import Popen, PIPE\n",
    "from os import path\n",
    "import pandas as pd"
   ]
  },
  {
   "cell_type": "markdown",
   "metadata": {},
   "source": [
    "# Configure directories"
   ]
  },
  {
   "cell_type": "code",
   "execution_count": null,
   "metadata": {},
   "outputs": [],
   "source": [
    "userhome = os.path.expanduser('~')\n",
    "txt_file = open(userhome + r\"/DifferentDiffAlgorithms/SZZ/code_document/project_identity.txt\", \"r\")\n",
    "pid = txt_file.read().split('\\n')\n",
    "project = pid[0]\n",
    "bugidentifier = pid[1]\n",
    "repository = userhome + r'/DifferentDiffAlgorithms/SZZ/datasource/' + project + '/'\n",
    "analyze_dir = userhome + r'/DifferentDiffAlgorithms/SZZ/projects_analyses/' + project + '/'\n",
    "\n",
    "print (\"Project name = %s\" % project)\n",
    "print (\"Project key = %s\" % bugidentifier)"
   ]
  },
  {
   "cell_type": "markdown",
   "metadata": {},
   "source": [
    "# Defining git command function"
   ]
  },
  {
   "cell_type": "code",
   "execution_count": null,
   "metadata": {},
   "outputs": [],
   "source": [
    "def execute_shell_command(buglink, id1, id2, cmd, work_dir):\n",
    "    #Executes a shell command in a subprocess, waiting until it has completed.\n",
    "    pipe = subprocess.Popen(cmd, shell=True, cwd=work_dir, stdout=subprocess.PIPE, stderr=subprocess.PIPE)\n",
    "    (out, error) = pipe.communicate()\n",
    "    return buglink, id1, id2, out, error\n",
    "    pipe.wait()"
   ]
  },
  {
   "cell_type": "code",
   "execution_count": null,
   "metadata": {},
   "outputs": [],
   "source": [
    "def execute_command(cmd, work_dir):\n",
    "    pipe = subprocess.Popen(cmd, shell=True, cwd=work_dir, stdout=subprocess.PIPE, stderr=subprocess.PIPE)\n",
    "    (out, error) = pipe.communicate()\n",
    "    return out, error\n",
    "    pipe.wait()"
   ]
  },
  {
   "cell_type": "markdown",
   "metadata": {},
   "source": [
    "# Loading file of commit id - parent id"
   ]
  },
  {
   "cell_type": "code",
   "execution_count": null,
   "metadata": {
    "scrolled": true
   },
   "outputs": [],
   "source": [
    "header = ['bug_id','bugfix_commitID','parent_id']\n",
    "parent_id = pd.read_csv(analyze_dir + '01_bug_ids_extraction/parentid_of_bugfixcommit.csv')\n",
    "parent_id = parent_id[header]\n",
    "parent_id"
   ]
  },
  {
   "cell_type": "markdown",
   "metadata": {},
   "source": [
    "# Filtering only modified files in bug-fix commit candidates"
   ]
  },
  {
   "cell_type": "code",
   "execution_count": null,
   "metadata": {},
   "outputs": [],
   "source": [
    "files = []\n",
    "for cmt in range(0,len(parent_id)):\n",
    "    sys.stdout.write('\\rExtracting modified files in commit, row no.: %i' %(cmt+1) + ' out of %i' %(len(parent_id)))\n",
    "    sys.stdout.flush()\n",
    "    \n",
    "    data_commit = parent_id.iloc[cmt]\n",
    "    \n",
    "    diff_cmd = \"git diff -w --ignore-blank-lines \" + data_commit[2] + \" \" + data_commit[1] + \" --name-status\"\n",
    "    tmp = str(execute_command(diff_cmd, repository))\n",
    "    tmp = tmp.replace(\"\\\\t\",\",\").replace(\"\\\\n\",\",\").replace(\"(b'', b'')\",\"\").replace(\",', b'')\",\"\").replace(\"(b'\",\"\")\n",
    "    if tmp != '':\n",
    "        tmp = tmp.split(\",\")\n",
    "        if len(tmp) > 2:\n",
    "            length = len(tmp)/2\n",
    "        else:\n",
    "            length = len(tmp)-1\n",
    "        ii = 0\n",
    "        for tt in range(0,int(length)):\n",
    "            if tmp[ii] == 'M':\n",
    "                tmp2 = [parent_id.iloc[cmt][0], parent_id.iloc[cmt][1], parent_id.iloc[cmt][2], tmp[ii], tmp[ii+1]]\n",
    "                files.append(tmp2)\n",
    "            ii += 2"
   ]
  },
  {
   "cell_type": "code",
   "execution_count": null,
   "metadata": {
    "scrolled": true
   },
   "outputs": [],
   "source": [
    "with open(analyze_dir + \"02_diff_extraction/01_modified_files/allmodified_files.csv\", 'w') as parent:\n",
    "    header = ['bug_id','bugfix_commitID','parent_id','status','filename']\n",
    "    writers = csv.writer(parent, delimiter=',')\n",
    "    writers.writerow(header)\n",
    "    for item in files:\n",
    "        writers.writerow(item)\n",
    "        \n",
    "df_file = pd.read_csv(analyze_dir + \"02_diff_extraction/01_modified_files/allmodified_files.csv\")\n",
    "df_file = df_file[header]\n",
    "df_file"
   ]
  },
  {
   "cell_type": "code",
   "execution_count": null,
   "metadata": {},
   "outputs": [],
   "source": []
  }
 ],
 "metadata": {
  "kernelspec": {
   "display_name": "Python 3",
   "language": "python",
   "name": "python3"
  },
  "language_info": {
   "codemirror_mode": {
    "name": "ipython",
    "version": 3
   },
   "file_extension": ".py",
   "mimetype": "text/x-python",
   "name": "python",
   "nbconvert_exporter": "python",
   "pygments_lexer": "ipython3",
   "version": "3.7.1"
  }
 },
 "nbformat": 4,
 "nbformat_minor": 2
}
