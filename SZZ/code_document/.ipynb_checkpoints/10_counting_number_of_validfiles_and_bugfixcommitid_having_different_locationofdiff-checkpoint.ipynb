{
 "cells": [
  {
   "cell_type": "markdown",
   "metadata": {},
   "source": [
    "# Import libraries"
   ]
  },
  {
   "cell_type": "code",
   "execution_count": null,
   "metadata": {},
   "outputs": [],
   "source": [
    "import os, glob, csv, sys, re, math\n",
    "import pandas as pd\n",
    "from os import path"
   ]
  },
  {
   "cell_type": "markdown",
   "metadata": {},
   "source": [
    "# Configure directories"
   ]
  },
  {
   "cell_type": "code",
   "execution_count": null,
   "metadata": {},
   "outputs": [],
   "source": [
    "userhome = os.path.expanduser('~')\n",
    "txt_file = open(userhome + r\"/DifferentDiffAlgorithms/SZZ/code_document/project_identity.txt\", \"r\")\n",
    "pid = txt_file.read().split('\\n')\n",
    "project = pid[0]\n",
    "bugidentifier = pid[1]\n",
    "proj = project.upper()\n",
    "analyze_dir = userhome + r'/DifferentDiffAlgorithms/SZZ/projects_analyses/' + project + '/'\n",
    "compare_dir = analyze_dir + \"02_diff_extraction/03_file_having_deletedlines/\"\n",
    "\n",
    "print (\"Project name = %s\" % project)\n",
    "print (\"Project key = %s\" % bugidentifier)"
   ]
  },
  {
   "cell_type": "markdown",
   "metadata": {},
   "source": [
    "# Load the dataset"
   ]
  },
  {
   "cell_type": "code",
   "execution_count": null,
   "metadata": {},
   "outputs": [],
   "source": [
    "#Load comparison dataset\n",
    "diffblame_myers = pd.read_csv(analyze_dir + \"05_validation/02_validfiles/myers_valid_files.csv\")\n",
    "diffblame_hist = pd.read_csv(analyze_dir + \"05_validation/02_validfiles/histogram_valid_files.csv\")\n",
    "diffblame_myers"
   ]
  },
  {
   "cell_type": "markdown",
   "metadata": {},
   "source": [
    "Merge 2 dataset"
   ]
  },
  {
   "cell_type": "code",
   "execution_count": null,
   "metadata": {},
   "outputs": [],
   "source": [
    "diffblame = diffblame_myers.merge(diffblame_hist, on=['bug_id','bugfix_commitID','parent_id','filepath'], how='outer')\n",
    "diffblame.fillna(0, inplace=True)\n",
    "diffblame = diffblame.reset_index(drop=True)\n",
    "diffblame = diffblame[['bug_id','bugfix_commitID','parent_id','filepath','diff_myers_file','diff_histogram_file',\n",
    "                       'blame_myers_file','blame_histogram_file','myers_diffnblame_file','histogram_diffnblame_file',\n",
    "                       'myers_#validbugline','histogram_#validbugline','myers_affect_version?','histogram_affect_version?']]\n",
    "diffblame.to_csv(analyze_dir + \"05_validation/02_validfiles/validfiles_combination.csv\", index=False)\n",
    "diffblame"
   ]
  },
  {
   "cell_type": "code",
   "execution_count": null,
   "metadata": {},
   "outputs": [],
   "source": [
    "data_equals = []\n",
    "data_unequals = []\n",
    "for dd in range (0,len(diffblame)):\n",
    "    dbl = diffblame.iloc[dd]\n",
    "    if (dbl[4] != 0) and (dbl[5] != 0):\n",
    "        data_equals.append(dd)\n",
    "    else:\n",
    "        if dbl[4] == 0:\n",
    "            data_unequals.append([dd,\"histogram/\",dbl[5]])\n",
    "        else:\n",
    "            data_unequals.append([dd,\"myers/\",dbl[4]])"
   ]
  },
  {
   "cell_type": "markdown",
   "metadata": {},
   "source": [
    "# Start Comparing Files"
   ]
  },
  {
   "cell_type": "code",
   "execution_count": null,
   "metadata": {},
   "outputs": [],
   "source": [
    "comparison_files = []\n",
    "for m, number in enumerate(data_equals):\n",
    "    sys.stdout.write(\"\\rComparing file no.: {} / {}\".format((m+1),len(data_equals)))\n",
    "    sys.stdout.flush()\n",
    "    \n",
    "    ff = diffblame.iloc[number]\n",
    "    mfiles = compare_dir + \"myers/\" + ff[4]\n",
    "    hfiles = compare_dir + \"histogram/\" + ff[5]\n",
    "    \n",
    "    hist_file = open(hfiles, encoding=\"utf8\", errors='ignore')\n",
    "    bugline_hist = hist_file.read().split('\\n')\n",
    "\n",
    "    if bugline_hist[len(bugline_hist)-1] == '':\n",
    "        for i in range(0,len(bugline_hist)-1):\n",
    "            bugline_hist[i] = bugline_hist[i][1:]\n",
    "        del bugline_hist[len(bugline_hist)-1]\n",
    "    else:\n",
    "        for i in range(0,len(bugline_hist)):\n",
    "            bugline_hist[i] = bugline_hist[i][1:]\n",
    "    \n",
    "    myers_file = open(mfiles, encoding=\"utf8\", errors='ignore')\n",
    "    bugline_myers = myers_file.read().split('\\n')\n",
    "\n",
    "    if bugline_myers[len(bugline_myers)-1] == '':\n",
    "        for i in range(0,len(bugline_myers)-1):\n",
    "            bugline_myers[i] = bugline_myers[i][1:]\n",
    "        del bugline_myers[len(bugline_myers)-1]\n",
    "    else:\n",
    "        for i in range(0,len(bugline_myers)):\n",
    "            bugline_myers[i] = bugline_myers[i][1:]\n",
    "            \n",
    "    if len(bugline_hist) > len(bugline_myers):\n",
    "        x = len(bugline_myers)\n",
    "    else:\n",
    "        x = len(bugline_hist)\n",
    "    \n",
    "    sum_line = 0\n",
    "    for b in range(0,x):        \n",
    "        if bugline_hist[b] != bugline_myers[b]:\n",
    "            sum_line = sum_line + 1\n",
    "        else:\n",
    "            sum_line = sum_line\n",
    "    sum_line = sum_line + (abs(len(bugline_hist)-len(bugline_myers)))\n",
    "    fnames = ((ff[3].split('/'))[-1:])[0] \n",
    "    temp = [number, ff[0], ff[1], ff[2], ff[3], fnames, sum_line]\n",
    "    \n",
    "    comparison_files.append(temp)\n",
    "    \n",
    "print (\"\\nThe process is complete\")"
   ]
  },
  {
   "cell_type": "code",
   "execution_count": null,
   "metadata": {},
   "outputs": [],
   "source": [
    "for un, num in enumerate(data_unequals):\n",
    "    sys.stdout.write(\"\\rComparing file no.: {} / {}\".format((un+1),len(data_unequals)))\n",
    "    sys.stdout.flush()\n",
    "    \n",
    "    nn = num[0]\n",
    "    file = compare_dir + num[1] + num[2]\n",
    "    un_file = open(file, encoding=\"utf8\", errors='ignore')        \n",
    "    bugline_unfile = un_file.read().split('\\n')\n",
    "\n",
    "    if bugline_unfile[len(bugline_unfile)-1] == '':\n",
    "        for i in range(0,len(bugline_unfile)-1):\n",
    "            bugline_unfile[i] = bugline_unfile[i][1:]\n",
    "        del bugline_unfile[len(bugline_unfile)-1]\n",
    "    else:\n",
    "        for i in range(0,len(bugline_unfile)):\n",
    "            bugline_unfile[i] = bugline_unfile[i][1:]\n",
    "            \n",
    "    sum_line = len(bugline_unfile)\n",
    "    zz = diffblame.iloc[nn]\n",
    "    fnames = ((zz[3].split('/'))[-1:])[0] \n",
    "    temp = [number, zz[0], zz[1], zz[2], zz[3], fnames, sum_line]\n",
    "    \n",
    "    comparison_files.append(temp)\n",
    "    \n",
    "print (\"\\nThe process is complete\")"
   ]
  },
  {
   "cell_type": "code",
   "execution_count": null,
   "metadata": {},
   "outputs": [],
   "source": [
    "with open(analyze_dir + \"05_validation/01_valid_buggyline/number_of_difflocation_of_valid_deletedlines.csv\",'w') as csvfile:\n",
    "    header = ['data_no','bug_id','bugfix_commitid','parent_id','filepath','filename','#different_location_valid_deletedline']\n",
    "    writers = csv.writer(csvfile, delimiter=\",\")\n",
    "    writers.writerow(header)\n",
    "    for item in comparison_files:\n",
    "        writers.writerow(item)\n",
    "print(\"The file has been created\")"
   ]
  },
  {
   "cell_type": "code",
   "execution_count": null,
   "metadata": {
    "scrolled": true
   },
   "outputs": [],
   "source": [
    "diffloc = pd.read_csv(analyze_dir + \"05_validation/01_valid_buggyline/number_of_difflocation_of_valid_deletedlines.csv\")\n",
    "diffloc"
   ]
  },
  {
   "cell_type": "code",
   "execution_count": null,
   "metadata": {
    "scrolled": true
   },
   "outputs": [],
   "source": [
    "file_withdiffloc = diffloc[header][diffloc[header]['#different_location_valid_deletedline'] != 0]\n",
    "file_withdiffloc.to_csv(analyze_dir + '05_validation/02_validfiles/validfiles_with_different_locofbugline.csv')\n",
    "file_withdiffloc"
   ]
  },
  {
   "cell_type": "code",
   "execution_count": null,
   "metadata": {
    "scrolled": true
   },
   "outputs": [],
   "source": [
    "#grouping the bug-fix commit id\n",
    "bugfixcid = diffloc.groupby('bugfix_commitid', as_index=False).agg({\"#different_location_valid_deletedline\":\"sum\"})\n",
    "cols = ['bugfix_commitid','#different_location_valid_deletedline']\n",
    "diffloc_bugfixcid = bugfixcid[cols][bugfixcid[cols]['#different_location_valid_deletedline'] != 0]\n",
    "diffloc_bugfixcid.to_csv(analyze_dir + '05_validation/03_validbugfixcommitid/validbugfixcid_with_different_locofbugline.csv')\n",
    "diffloc_bugfixcid"
   ]
  },
  {
   "cell_type": "markdown",
   "metadata": {},
   "source": [
    "# Summary of the different location in file-level"
   ]
  },
  {
   "cell_type": "code",
   "execution_count": null,
   "metadata": {},
   "outputs": [],
   "source": [
    "difffile = len(file_withdiffloc)\n",
    "samefile = len(diffloc)-len(file_withdiffloc)\n",
    "totalfile = len(diffloc)\n",
    "percentfile = (difffile/totalfile)*100\n",
    "\n",
    "print (\"Summary of file based on location\")\n",
    "print (\"==================================\")\n",
    "print (\"Project name : \" + proj)\n",
    "print (\"Number of files that have different bugline : %i\"%(difffile))\n",
    "print (\"Number of files that have same bugline : %i\" %(samefile))\n",
    "print (\"Total number of files : %i\" %(totalfile))\n",
    "print (\"Percentage of different : {0:.2f}%\".format(percentfile))"
   ]
  },
  {
   "cell_type": "markdown",
   "metadata": {},
   "source": [
    "# Summary of the different location in commit-level"
   ]
  },
  {
   "cell_type": "code",
   "execution_count": null,
   "metadata": {},
   "outputs": [],
   "source": [
    "diffcommit = len(diffloc_bugfixcid)\n",
    "samecommit = len(bugfixcid)-len(diffloc_bugfixcid)\n",
    "totalcommit = len(bugfixcid)\n",
    "percentcommit = (diffcommit/totalcommit)*100\n",
    "\n",
    "print (\"Summary of commit based on location\")\n",
    "print (\"==================================\")\n",
    "print (\"Project name : \" + proj)\n",
    "print (\"Number of commit id that have different bugline : %i\"%(diffcommit))\n",
    "print (\"Number of commit id that have same bugline : %i\" %(samecommit))\n",
    "print (\"Total number of commit id : %i\" %(totalcommit))\n",
    "print (\"Percentage of different : {0:.2f}%\".format(percentcommit))"
   ]
  },
  {
   "cell_type": "code",
   "execution_count": null,
   "metadata": {},
   "outputs": [],
   "source": [
    "#save in csv file\n",
    "sum_data = [[proj,'file-level',samefile,difffile,percentfile,totalfile],\n",
    "            [proj,'commit-level',samecommit,diffcommit,percentcommit,totalcommit]\n",
    "           ]\n",
    "with open (analyze_dir + \"05_validation/05_stats/summary_of_difflocation_in_filencommit.csv\",'w') as mycsv:\n",
    "    head = ['project_name','level','#same','#different','percentage','totalnumber']\n",
    "    writers = csv.writer(mycsv, delimiter=',')\n",
    "    writers.writerow(head)\n",
    "    for item in sum_data:\n",
    "        writers.writerow(item)\n",
    "\n",
    "csvfile = pd.read_csv(analyze_dir + \"05_validation/05_stats/summary_of_difflocation_in_filencommit.csv\")\n",
    "csvfile"
   ]
  },
  {
   "cell_type": "code",
   "execution_count": null,
   "metadata": {},
   "outputs": [],
   "source": []
  }
 ],
 "metadata": {
  "kernelspec": {
   "display_name": "Python 3",
   "language": "python",
   "name": "python3"
  },
  "language_info": {
   "codemirror_mode": {
    "name": "ipython",
    "version": 3
   },
   "file_extension": ".py",
   "mimetype": "text/x-python",
   "name": "python",
   "nbconvert_exporter": "python",
   "pygments_lexer": "ipython3",
   "version": "3.7.1"
  }
 },
 "nbformat": 4,
 "nbformat_minor": 2
}
