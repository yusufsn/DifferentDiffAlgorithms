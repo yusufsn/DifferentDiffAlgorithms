{
 "cells": [
  {
   "cell_type": "markdown",
   "metadata": {},
   "source": [
    "# Importing libraries"
   ]
  },
  {
   "cell_type": "code",
   "execution_count": null,
   "metadata": {},
   "outputs": [],
   "source": [
    "import os, glob, csv, sys, re, operator\n",
    "from os import path\n",
    "import pandas as pd"
   ]
  },
  {
   "cell_type": "markdown",
   "metadata": {},
   "source": [
    "# Configure repository and directories"
   ]
  },
  {
   "cell_type": "code",
   "execution_count": null,
   "metadata": {},
   "outputs": [],
   "source": [
    "userhome = os.path.expanduser('~')\n",
    "txt_file = open(userhome + r\"/DifferentDiffAlgorithms/SZZ/code_document/project_identity.txt\", \"r\")\n",
    "pid = txt_file.read().split('\\n')\n",
    "project = pid[0]\n",
    "bugidentifier = pid[1]\n",
    "analyze_dir = userhome + r'/DifferentDiffAlgorithms/SZZ/projects_analyses/' + project + '/'\n",
    "\n",
    "print (\"Project name = %s\" % project)\n",
    "print (\"Project key = %s\" % bugidentifier)"
   ]
  },
  {
   "cell_type": "markdown",
   "metadata": {},
   "source": [
    "# Loading comparison data between bugline and blame"
   ]
  },
  {
   "cell_type": "code",
   "execution_count": null,
   "metadata": {},
   "outputs": [],
   "source": [
    "compare_dirs = analyze_dir + '03_annotate/02_diff-file_blame-file_comparison/'"
   ]
  },
  {
   "cell_type": "code",
   "execution_count": null,
   "metadata": {},
   "outputs": [],
   "source": [
    "dirs = []\n",
    "for root, folder, fileList in os.walk(compare_dirs):\n",
    "    if folder != []:\n",
    "        dirs.append(folder)\n",
    "dirs.sort()\n",
    "dirs = dirs[0]\n",
    "dirs"
   ]
  },
  {
   "cell_type": "markdown",
   "metadata": {},
   "source": [
    "# Load dataset of diff and blame file"
   ]
  },
  {
   "cell_type": "code",
   "execution_count": null,
   "metadata": {},
   "outputs": [],
   "source": [
    "colname = ['bug_id','bugfix_commitID','parent_id','filepath','diff_myers_file','diff_histogram_file','blame_myers_file',\n",
    "           'blame_histogram_file','myers_diffnblame_file','histogram_diffnblame_file','#deletions_myers',\n",
    "           '#deletions_histogram','earliest_affected_version','date_release']\n",
    "df_diffblame = pd.read_csv(compare_dirs + 'diffnblame_comparison_files.csv')\n",
    "df_diffblame = df_diffblame[colname]\n",
    "df_diffblame"
   ]
  },
  {
   "cell_type": "markdown",
   "metadata": {},
   "source": [
    "# Reading files from comparison dataset"
   ]
  },
  {
   "cell_type": "code",
   "execution_count": null,
   "metadata": {},
   "outputs": [],
   "source": [
    "#Reading files from comparison\n",
    "for n in range(0,len(dirs)):\n",
    "    result = []\n",
    "    for diff in range(0,len(df_diffblame)):        \n",
    "        sys.stdout.write(\"\\r{} Reading file no: {}\".format((n+1),(diff+1)))\n",
    "        sys.stdout.flush()\n",
    "        dt = df_diffblame.iloc[diff]\n",
    "        file = compare_dirs + dirs[n] + \"/\" + dt[8+n]\n",
    "\n",
    "        res = []\n",
    "        with open(file,'r') as myfile:\n",
    "            csv_reader = csv.reader(myfile, delimiter=',')\n",
    "            for row in csv_reader:\n",
    "                res.append(row[8])\n",
    "        del res[0]\n",
    "        \n",
    "        filename = ((dt[3].split('/'))[-1:])[0] \n",
    "\n",
    "        num_validbug = 0\n",
    "        if ('bug-introducing change') not in res:\n",
    "            tmp = [dt[0],dt[1],dt[2],dt[3],dt[4],dt[5],dt[6],dt[7],dt[8],dt[9],dt[10],dt[11],dt[12],dt[13],\n",
    "                   num_validbug,\"Does not affect the version\"]\n",
    "        else:\n",
    "            df = pd.read_csv(file)\n",
    "            num_validbug = df['bug_class'][df['bug_class'] == 'bug-introducing change'].count()\n",
    "            tmp = [dt[0],dt[1],dt[2],dt[3],dt[4],dt[5],dt[6],dt[7],dt[8],dt[9],dt[10],dt[11],dt[12],dt[13],\n",
    "                   num_validbug,\"Affect the version\"]\n",
    "        result.append(tmp)\n",
    "    \n",
    "    algorithm = re.search(\"(\\w+)_comparison\", dirs[n])\n",
    "    algorithm = algorithm.group(1)\n",
    "\n",
    "    with open(analyze_dir + \"04_affected_versions/02_grouping_affected_non-affected_files/\" + algorithm + \"_affnonaff_files.csv\",'w') as csvfile:\n",
    "        fields = colname + [algorithm + '_#validbugline',algorithm + '_affect_version?']\n",
    "        writers = csv.writer(csvfile, delimiter=\",\")\n",
    "        writers.writerow(fields)\n",
    "        for item in result:\n",
    "            writers.writerow(item)\n",
    "            \n",
    "print (\"\\nThe process is complete\")"
   ]
  },
  {
   "cell_type": "code",
   "execution_count": null,
   "metadata": {
    "scrolled": true
   },
   "outputs": [],
   "source": [
    "cname = ['bug_id','bugfix_commitID','parent_id','filepath','diff_histogram_file','blame_histogram_file','histogram_diffnblame_file',\n",
    "         '#deletions_histogram','earliest_affected_version','date_release','histogram_#validbugline',\n",
    "         'histogram_affect_version?']\n",
    "df_affhist = pd.read_csv(analyze_dir + \"04_affected_versions/02_grouping_affected_non-affected_files/histogram_affnonaff_files.csv\")\n",
    "df_affhist = df_affhist[cname]\n",
    "histafffile = df_affhist[cname][df_affhist[cname]['histogram_affect_version?'] == 'Affect the version']\n",
    "histafffile.to_csv(analyze_dir + \"04_affected_versions/02_grouping_affected_non-affected_files/histogram_affected_files.csv\",index=False)\n",
    "histafffile"
   ]
  },
  {
   "cell_type": "code",
   "execution_count": null,
   "metadata": {
    "scrolled": true
   },
   "outputs": [],
   "source": [
    "cname = ['bug_id','bugfix_commitID','parent_id','filepath','diff_myers_file','blame_myers_file','myers_diffnblame_file',\n",
    "         '#deletions_myers','earliest_affected_version','date_release','myers_#validbugline','myers_affect_version?']\n",
    "df_affmyers = pd.read_csv(analyze_dir + \"04_affected_versions/02_grouping_affected_non-affected_files/myers_affnonaff_files.csv\")\n",
    "df_affmyers = df_affmyers[cname]\n",
    "myersafffile = df_affmyers[cname][df_affmyers[cname]['myers_affect_version?'] == 'Affect the version']\n",
    "myersafffile.to_csv(analyze_dir + \"04_affected_versions/02_grouping_affected_non-affected_files/myers_affected_files.csv\",index=False)\n",
    "myersafffile"
   ]
  },
  {
   "cell_type": "markdown",
   "metadata": {},
   "source": [
    "# Counting affected and non-affected files"
   ]
  },
  {
   "cell_type": "code",
   "execution_count": null,
   "metadata": {},
   "outputs": [],
   "source": [
    "df = [df_affhist,df_affmyers]\n",
    "algorithms = ['histogram','myers']"
   ]
  },
  {
   "cell_type": "code",
   "execution_count": null,
   "metadata": {},
   "outputs": [],
   "source": [
    "no_of_files = []\n",
    "for z, dframe in enumerate(df):\n",
    "    affnum = dframe[algorithms[z] + '_affect_version?'][dframe[algorithms[z] + '_affect_version?'] == 'Does not affect the version'].count()\n",
    "    nonaffnum = dframe[algorithms[z] + '_affect_version?'][dframe[algorithms[z] + '_affect_version?'] == 'Affect the version'].count()\n",
    "    summ = [algorithms[z],affnum,nonaffnum]\n",
    "    no_of_files.append(summ)"
   ]
  },
  {
   "cell_type": "code",
   "execution_count": null,
   "metadata": {},
   "outputs": [],
   "source": [
    "with open(analyze_dir + \"04_affected_versions/02_grouping_affected_non-affected_files/totalnumber_of_affandnonaff_files.csv\",'w') as file:\n",
    "    header = ['algorithm','#non-affected_files','#affected_files']\n",
    "    writers = csv.writer(file,delimiter=\",\")\n",
    "    writers.writerow(header)\n",
    "    for ii in no_of_files:\n",
    "        writers.writerow(ii)\n",
    "print (\"File 'totalnumber_of_affandnonaff_files.csv' has been created\")"
   ]
  },
  {
   "cell_type": "code",
   "execution_count": null,
   "metadata": {},
   "outputs": [],
   "source": [
    "aff_file = pd.read_csv(analyze_dir + \"04_affected_versions/02_grouping_affected_non-affected_files/totalnumber_of_affandnonaff_files.csv\")\n",
    "aff_file"
   ]
  },
  {
   "cell_type": "code",
   "execution_count": null,
   "metadata": {},
   "outputs": [],
   "source": []
  }
 ],
 "metadata": {
  "kernelspec": {
   "display_name": "Python 3",
   "language": "python",
   "name": "python3"
  },
  "language_info": {
   "codemirror_mode": {
    "name": "ipython",
    "version": 3
   },
   "file_extension": ".py",
   "mimetype": "text/x-python",
   "name": "python",
   "nbconvert_exporter": "python",
   "pygments_lexer": "ipython3",
   "version": "3.7.1"
  }
 },
 "nbformat": 4,
 "nbformat_minor": 2
}
