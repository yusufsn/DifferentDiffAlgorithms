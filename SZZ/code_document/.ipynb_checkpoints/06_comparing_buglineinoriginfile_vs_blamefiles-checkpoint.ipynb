{
 "cells": [
  {
   "cell_type": "markdown",
   "metadata": {},
   "source": [
    "# Importing libraries"
   ]
  },
  {
   "cell_type": "code",
   "execution_count": null,
   "metadata": {},
   "outputs": [],
   "source": [
    "import os, glob, csv, sys, re\n",
    "from os import path\n",
    "import pandas as pd"
   ]
  },
  {
   "cell_type": "markdown",
   "metadata": {},
   "source": [
    "# Configure repository and directories"
   ]
  },
  {
   "cell_type": "code",
   "execution_count": null,
   "metadata": {},
   "outputs": [],
   "source": [
    "userhome = os.path.expanduser('~')\n",
    "txt_file = open(userhome + r\"/DifferentDiffAlgorithms/SZZ/code_document/project_identity.txt\", \"r\")\n",
    "pid = txt_file.read().split('\\n')\n",
    "project = pid[0]\n",
    "bugidentifier = pid[1]\n",
    "analyze_dir = userhome + r'/DifferentDiffAlgorithms/SZZ/projects_analyses/' + project + '/'\n",
    "\n",
    "print (\"Project name = %s\" % project)\n",
    "print (\"Project key = %s\" % bugidentifier)"
   ]
  },
  {
   "cell_type": "markdown",
   "metadata": {},
   "source": [
    "# Loading the earliest affected versions dataset"
   ]
  },
  {
   "cell_type": "code",
   "execution_count": null,
   "metadata": {
    "scrolled": true
   },
   "outputs": [],
   "source": [
    "affected_version = pd.read_csv(analyze_dir + '04_affected_versions/earliest_version.csv')\n",
    "cols = ['bug_id','earliest_affected_version','date_release']\n",
    "aff = affected_version[cols]"
   ]
  },
  {
   "cell_type": "code",
   "execution_count": null,
   "metadata": {},
   "outputs": [],
   "source": [
    "algorithms = ['histogram','myers']"
   ]
  },
  {
   "cell_type": "code",
   "execution_count": null,
   "metadata": {},
   "outputs": [],
   "source": [
    "colname = ['bug_id','bugfix_commitID','parent_id','filepath','diff_myers_file','diff_histogram_file','blame_myers_file','blame_histogram_file',\n",
    "           '#deletions_myers','#deletions_histogram']\n",
    "identified_files = pd.read_csv(analyze_dir + '04_affected_versions/affected_version_for_identified_files.csv')\n",
    "identified_files"
   ]
  },
  {
   "cell_type": "markdown",
   "metadata": {},
   "source": [
    "# Start comparing the bug-related lines with the line from the annotated files"
   ]
  },
  {
   "cell_type": "markdown",
   "metadata": {},
   "source": [
    "# Histogram"
   ]
  },
  {
   "cell_type": "code",
   "execution_count": null,
   "metadata": {},
   "outputs": [],
   "source": [
    "blamehist_dirs = analyze_dir + '03_annotate/01_annotated_files/blame_histogram/csv/'\n",
    "blamefile_hist = glob.glob(blamehist_dirs + '*')\n",
    "print (\"Found \" + str(len(blamefile_hist)) + \" files\") "
   ]
  },
  {
   "cell_type": "code",
   "execution_count": null,
   "metadata": {},
   "outputs": [],
   "source": [
    "diffhist_dirs = analyze_dir + '02_diff_extraction/03_file_having_deletedlines/histogram/'\n",
    "difffile_hist = glob.glob(diffhist_dirs + '*')\n",
    "print (\"Found \" + str(len(difffile_hist)) + \" files\") "
   ]
  },
  {
   "cell_type": "code",
   "execution_count": null,
   "metadata": {},
   "outputs": [],
   "source": [
    "histdbfile = []\n",
    "for num in range(0,len(identified_files)):\n",
    "    sys.stdout.write('\\rComparing bug-related lines and annotated files: %i' % (num+1) + ' out of %i' % (len(identified_files)))\n",
    "    sys.stdout.flush()\n",
    "    \n",
    "    idfile = identified_files.iloc[num]\n",
    "    blame = blamehist_dirs + idfile[7]\n",
    "    \n",
    "    #Open csv file from result of git blame for <filename>.xxx\n",
    "    fields = ['bugintro_commitid','line_number', 'code', 'date']\n",
    "    blamefile = pd.read_csv(blame)\n",
    "    blamefile = blamefile[fields]\n",
    "\n",
    "    origin_code = []\n",
    "    for n in range(0, len(blamefile)):\n",
    "        temp = [blamefile.iloc[n][0], blamefile.iloc[n][1], str(blamefile.iloc[n][2]).replace('nan',''), blamefile.iloc[n][3]]\n",
    "        origin_code.append(temp)\n",
    "    \n",
    "    #Open diff_file <filename>.xxx-xxxx_<diffalgorithm>buglines.diff vs blame_<filename>\n",
    "    dfname = diffhist_dirs + idfile[5]    \n",
    "    diff_file = open(dfname, encoding=\"utf8\", errors='ignore')\n",
    "    bugline = diff_file.read().split('\\n')\n",
    "\n",
    "    if bugline[len(bugline)-1] == '':\n",
    "        for i in range(0,len(bugline)-1):\n",
    "            bugline[i] = bugline[i][1:]\n",
    "        del bugline[len(bugline)-1]\n",
    "    else:\n",
    "        for i in range(0,len(bugline)):\n",
    "            bugline[i] = bugline[i][1:]\n",
    "\n",
    "    bug_id = idfile[0]\n",
    "\n",
    "    for vers in range(0,len(aff)):\n",
    "        if bug_id == aff.iloc[vers][0]:\n",
    "            version = aff.iloc[vers][1]\n",
    "            daterelease = aff.iloc[vers][2]\n",
    "            break;\n",
    "        else:\n",
    "            version = 'None'\n",
    "            daterelease = 'None'\n",
    "\n",
    "    num = 0\n",
    "    blame_compare = []\n",
    "    org_code = [el[2] for el in origin_code]\n",
    "    for y, bugs in enumerate(bugline):\n",
    "        if bugs in org_code[num:len(org_code)]:\n",
    "            for x in range(num, len(origin_code)):                \n",
    "                codex = origin_code[x][2]\n",
    "                if bugs == codex:\n",
    "                    if version != 'None':\n",
    "                        # comparing the release date of affected version and the date the origin code was added\n",
    "                        if origin_code[x][3] <= daterelease:\n",
    "                            flag = 'bug-introducing change'\n",
    "                        else:\n",
    "                            flag = 'incorrect'\n",
    "                    else:\n",
    "                        flag = 'unknown'\n",
    "                    temp = [bug_id, origin_code[x][0], origin_code[x][1], bugs, \"True\", origin_code[x][3], version, daterelease, flag]\n",
    "                    blame_compare.append(temp)\n",
    "                    num = origin_code[x][1]\n",
    "                    break;                  \n",
    "        else:\n",
    "            temp = [bug_id, 'None', 'None', bugs, \"False\", 'None', version, daterelease, 'unknown']\n",
    "            blame_compare.append(temp)\n",
    "\n",
    "    fnames = ((idfile[3].split('/'))[-1:])[0]\n",
    "    blamename = idfile[7]\n",
    "    hist_name = 'diff_' + fnames + '_histogram-' + blamename\n",
    "\n",
    "    with open (analyze_dir + r'03_annotate/02_diff-file_blame-file_comparison/histogram_comparison/' + hist_name, 'w') as csvfile:\n",
    "        writers = csv.writer(csvfile, delimiter = \",\")\n",
    "        header = ['bug_id', 'bugintro_commitid', 'line_number', 'buggy_code', 'does_bugline_from_originfile?', 'date_added_in_originfile', 'earliest_affected_version', 'version_release_date', 'bug_class']\n",
    "        writers.writerow(header)\n",
    "        for item in blame_compare:\n",
    "            writers.writerow(item)\n",
    "    \n",
    "    histdbfile.append(hist_name)\n",
    "xfile = pd.read_csv(analyze_dir + '04_affected_versions/affected_version_for_identified_files.csv')\n",
    "xfile['histogram_diffnblame_file'] = histdbfile\n",
    "print ('\\nComparing bug-related lines are complete')"
   ]
  },
  {
   "cell_type": "markdown",
   "metadata": {},
   "source": [
    "# Myers"
   ]
  },
  {
   "cell_type": "code",
   "execution_count": null,
   "metadata": {},
   "outputs": [],
   "source": [
    "blamemyers_dirs = analyze_dir + '03_annotate/01_annotated_files/blame_myers/csv/'\n",
    "blamefile_myers = glob.glob(blamemyers_dirs + '*')\n",
    "print (\"Found \" + str(len(blamefile_myers)) + \" files\") "
   ]
  },
  {
   "cell_type": "code",
   "execution_count": null,
   "metadata": {},
   "outputs": [],
   "source": [
    "diffmyers_dirs = analyze_dir + '02_diff_extraction/03_file_having_deletedlines/myers/'\n",
    "difffile_myers = glob.glob(diffmyers_dirs + '*')\n",
    "print (\"Found \" + str(len(difffile_myers)) + \" files\") "
   ]
  },
  {
   "cell_type": "code",
   "execution_count": null,
   "metadata": {},
   "outputs": [],
   "source": [
    "myersdbfile = []\n",
    "for num in range(0,len(identified_files)):\n",
    "    sys.stdout.write('\\rComparing bug-related lines and annotated files: %i' % (num+1) + ' out of %i' % (len(identified_files)))\n",
    "    sys.stdout.flush()\n",
    "    \n",
    "    idfile = identified_files.iloc[num]\n",
    "    blame = blamemyers_dirs + idfile[6]\n",
    "    \n",
    "    #Open csv file from result of git blame for <filename>.xxx\n",
    "    fields = ['bugintro_commitid','line_number', 'code', 'date']\n",
    "    blamefile = pd.read_csv(blame)\n",
    "    blamefile = blamefile[fields]\n",
    "\n",
    "    origin_code = []\n",
    "    for n in range(0, len(blamefile)):\n",
    "        temp = [blamefile.iloc[n][0], blamefile.iloc[n][1], str(blamefile.iloc[n][2]).replace('nan',''), blamefile.iloc[n][3]]\n",
    "        origin_code.append(temp)\n",
    "    \n",
    "    #Open diff_file <filename>.xxx-xxxx_<diffalgorithm>buglines.diff vs blame_<filename>\n",
    "    dfname = diffmyers_dirs + idfile[4]    \n",
    "    diff_file = open(dfname, encoding=\"utf8\", errors='ignore')\n",
    "    bugline = diff_file.read().split('\\n')\n",
    "\n",
    "    if bugline[len(bugline)-1] == '':\n",
    "        for i in range(0,len(bugline)-1):\n",
    "            bugline[i] = bugline[i][1:]\n",
    "        del bugline[len(bugline)-1]\n",
    "    else:\n",
    "        for i in range(0,len(bugline)):\n",
    "            bugline[i] = bugline[i][1:]\n",
    "\n",
    "    bug_id = idfile[0]\n",
    "\n",
    "    for vers in range(0,len(aff)):\n",
    "        if bug_id == aff.iloc[vers][0]:\n",
    "            version = aff.iloc[vers][1]\n",
    "            daterelease = aff.iloc[vers][2]\n",
    "            break;\n",
    "        else:\n",
    "            version = 'None'\n",
    "            daterelease = 'None'\n",
    "\n",
    "    num = 0\n",
    "    blame_compare = []\n",
    "    org_code = [el[2] for el in origin_code]\n",
    "    for y, bugs in enumerate(bugline):\n",
    "        if bugs in org_code[num:len(org_code)]:\n",
    "            for x in range(num, len(origin_code)):                \n",
    "                codex = origin_code[x][2]\n",
    "                if bugs == codex:\n",
    "                    if version != 'None':\n",
    "                        # comparing the release date of affected version and the date the origin code was added\n",
    "                        if origin_code[x][3] <= daterelease:\n",
    "                            flag = 'bug-introducing change'\n",
    "                        else:\n",
    "                            flag = 'incorrect'\n",
    "                    else:\n",
    "                        flag = 'unknown'\n",
    "                    temp = [bug_id, origin_code[x][0], origin_code[x][1], bugs, \"True\", origin_code[x][3], version, daterelease, flag]\n",
    "                    blame_compare.append(temp)\n",
    "                    num = origin_code[x][1]\n",
    "                    break;                  \n",
    "        else:\n",
    "            temp = [bug_id, 'None', 'None', bugs, \"False\", 'None', version, daterelease, 'unknown']\n",
    "            blame_compare.append(temp)\n",
    "\n",
    "    fnames = ((idfile[3].split('/'))[-1:])[0] \n",
    "    blamename = idfile[6]\n",
    "    myers_name = 'diff_' + fnames + '_myers-' + blamename\n",
    "    \n",
    "    with open (analyze_dir + r'03_annotate/02_diff-file_blame-file_comparison/myers_comparison/' + myers_name, 'w') as csvfile:\n",
    "        writers = csv.writer(csvfile, delimiter = \",\")\n",
    "        header = ['bug_id', 'bugintro_commitid', 'line_number', 'buggy_code', 'does_bugline_from_originfile?', 'date_added_in_originfile', 'earliest_affected_version', 'version_release_date', 'bug_class']\n",
    "        writers.writerow(header)\n",
    "        for item in blame_compare:\n",
    "            writers.writerow(item)\n",
    "    \n",
    "    myersdbfile.append(myers_name)\n",
    "xfile['myers_diffnblame_file'] = myersdbfile   \n",
    "print ('\\nComparing buglines are complete')"
   ]
  },
  {
   "cell_type": "code",
   "execution_count": null,
   "metadata": {},
   "outputs": [],
   "source": [
    "colname = ['bug_id','bugfix_commitID','parent_id','filepath','diff_myers_file','diff_histogram_file','blame_myers_file',\n",
    "           'blame_histogram_file','myers_diffnblame_file','histogram_diffnblame_file','#deletions_myers',\n",
    "           '#deletions_histogram','earliest_affected_version','date_release']\n",
    "xfile = xfile[colname]\n",
    "xfile.to_csv(analyze_dir + '03_annotate/02_diff-file_blame-file_comparison/diffnblame_comparison_files.csv')\n",
    "xfile"
   ]
  },
  {
   "cell_type": "markdown",
   "metadata": {
    "collapsed": true
   },
   "source": [
    "# Comparing the number of bug class of each algorithm"
   ]
  },
  {
   "cell_type": "code",
   "execution_count": null,
   "metadata": {},
   "outputs": [],
   "source": [
    "algorithm = ['histogram','myers']"
   ]
  },
  {
   "cell_type": "code",
   "execution_count": null,
   "metadata": {},
   "outputs": [],
   "source": [
    "#set the filepath of the filenames\n",
    "filepath = analyze_dir + '03_annotate/02_diff-file_blame-file_comparison/'"
   ]
  },
  {
   "cell_type": "code",
   "execution_count": null,
   "metadata": {},
   "outputs": [],
   "source": [
    "result = []\n",
    "\n",
    "for ii, alg in enumerate(algorithm):\n",
    "    bug_intro_qty = incorrect_qty = unknown_qty = sumln = 0\n",
    "    i = 1\n",
    "    for fname in glob.iglob(filepath + alg + '_comparison/*', recursive=True):\n",
    "        sys.stdout.write('\\r%i ' %(ii+1) + 'Counting the number of bug-class in file %i' % i)\n",
    "        sys.stdout.flush()\n",
    "        i += 1\n",
    "\n",
    "        dframe = pd.read_csv(fname, low_memory=False)\n",
    "        op = open(fname, encoding=\"utf8\", errors='ignore')\n",
    "        lines = op.read().split('\\n')\n",
    "        if \"-- /dev\" not in lines[1]:\n",
    "            sumln = (len(lines)-2) + sumln\n",
    "            bug_intro_qty = dframe['bug_class'][dframe['bug_class'] == 'bug-introducing change'].count() + bug_intro_qty\n",
    "            incorrect_qty = dframe['bug_class'][dframe['bug_class'] == 'incorrect'].count() + incorrect_qty\n",
    "            unknown_qty = dframe['bug_class'][dframe['bug_class'] == 'unknown'].count() + unknown_qty\n",
    "        else:\n",
    "            sumln = (len(lines)-3) + sumln\n",
    "            pass\n",
    "    \n",
    "    result.append([bug_intro_qty, incorrect_qty, unknown_qty, sumln])\n",
    "print ('\\nCounting the number of bug-introducing change is complete')"
   ]
  },
  {
   "cell_type": "code",
   "execution_count": null,
   "metadata": {},
   "outputs": [],
   "source": [
    "result_matrix = [list(i) for i in zip(*result)]\n",
    "label = ['#bug-introducing_change', '#incorrect', '#unknown', 'total']\n",
    "for s, lbl in enumerate(label):\n",
    "    result_matrix[s].insert(0, lbl)\n",
    "result_matrix"
   ]
  },
  {
   "cell_type": "code",
   "execution_count": null,
   "metadata": {},
   "outputs": [],
   "source": [
    "with open(analyze_dir + '04_affected_versions/01_no_of_bugclass/quantity_of_bug_class.csv','w') as myfile:\n",
    "    header = ['class', 'histogram', 'myers']\n",
    "    writers = csv.writer(myfile)\n",
    "    writers.writerow(header)\n",
    "    for item in result_matrix:\n",
    "        writers.writerow(item)"
   ]
  },
  {
   "cell_type": "code",
   "execution_count": null,
   "metadata": {},
   "outputs": [],
   "source": [
    "df_bugclass = pd.read_csv(analyze_dir + '04_affected_versions/01_no_of_bugclass/quantity_of_bug_class.csv')\n",
    "df_bugclass = df_bugclass[header]\n",
    "df_bugclass"
   ]
  },
  {
   "cell_type": "code",
   "execution_count": null,
   "metadata": {},
   "outputs": [],
   "source": []
  }
 ],
 "metadata": {
  "kernelspec": {
   "display_name": "Python 3",
   "language": "python",
   "name": "python3"
  },
  "language_info": {
   "codemirror_mode": {
    "name": "ipython",
    "version": 3
   },
   "file_extension": ".py",
   "mimetype": "text/x-python",
   "name": "python",
   "nbconvert_exporter": "python",
   "pygments_lexer": "ipython3",
   "version": "3.7.1"
  }
 },
 "nbformat": 4,
 "nbformat_minor": 2
}
