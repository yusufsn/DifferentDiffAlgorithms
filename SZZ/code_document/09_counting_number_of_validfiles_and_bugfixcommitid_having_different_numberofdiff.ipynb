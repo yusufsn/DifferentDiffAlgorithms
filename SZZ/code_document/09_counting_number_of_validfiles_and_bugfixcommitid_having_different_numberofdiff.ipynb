{
 "cells": [
  {
   "cell_type": "markdown",
   "metadata": {},
   "source": [
    "# Import library"
   ]
  },
  {
   "cell_type": "code",
   "execution_count": null,
   "metadata": {},
   "outputs": [],
   "source": [
    "import os, csv\n",
    "import pandas as pd\n",
    "from os import path\n",
    "import plotly.graph_objs as go\n",
    "from plotly.offline import plot, init_notebook_mode, iplot\n",
    "\n",
    "%matplotlib inline"
   ]
  },
  {
   "cell_type": "markdown",
   "metadata": {},
   "source": [
    "# Configure directory"
   ]
  },
  {
   "cell_type": "code",
   "execution_count": null,
   "metadata": {},
   "outputs": [],
   "source": [
    "userhome = os.path.expanduser('~')\n",
    "txt_file = open(userhome + r\"/DifferentDiffAlgorithms/SZZ/code_document/project_identity.txt\", \"r\")\n",
    "pid = txt_file.read().split('\\n')\n",
    "project = pid[0]\n",
    "bugidentifier = pid[1]\n",
    "proj = project.upper()\n",
    "analyze_dir = userhome + r'/DifferentDiffAlgorithms/SZZ/projects_analyses/' + project + '/'\n",
    "\n",
    "print (\"Project name = %s\" % project)\n",
    "print (\"Project key = %s\" % bugidentifier)"
   ]
  },
  {
   "cell_type": "markdown",
   "metadata": {},
   "source": [
    "# Load Dataset"
   ]
  },
  {
   "cell_type": "code",
   "execution_count": null,
   "metadata": {},
   "outputs": [],
   "source": [
    "mcolumns = ['bug_id','bugfix_commitID','parent_id','filepath','myers_#validbugline']\n",
    "hcolumns = ['bug_id','bugfix_commitID','parent_id','filepath','histogram_#validbugline']"
   ]
  },
  {
   "cell_type": "code",
   "execution_count": null,
   "metadata": {},
   "outputs": [],
   "source": [
    "ds_myers = pd.read_csv(analyze_dir + \"05_validation/02_validfiles/myers_valid_files.csv\")\n",
    "ds_myers = ds_myers[mcolumns]\n",
    "ds_hist = pd.read_csv(analyze_dir + \"05_validation/02_validfiles/histogram_valid_files.csv\")\n",
    "ds_hist = ds_hist[hcolumns]"
   ]
  },
  {
   "cell_type": "code",
   "execution_count": null,
   "metadata": {
    "scrolled": true
   },
   "outputs": [],
   "source": [
    "ds_hist"
   ]
  },
  {
   "cell_type": "code",
   "execution_count": null,
   "metadata": {
    "scrolled": true
   },
   "outputs": [],
   "source": [
    "ds_myers"
   ]
  },
  {
   "cell_type": "markdown",
   "metadata": {},
   "source": [
    "# Merge the two datasets"
   ]
  },
  {
   "cell_type": "code",
   "execution_count": null,
   "metadata": {
    "scrolled": true
   },
   "outputs": [],
   "source": [
    "data_merge = ds_hist.merge(ds_myers, on=['bug_id','bugfix_commitID','parent_id','filepath'], how='outer')\n",
    "data_merge.fillna(0, inplace=True)\n",
    "data_merge = data_merge.reset_index(drop=True)\n",
    "data_merge"
   ]
  },
  {
   "cell_type": "markdown",
   "metadata": {},
   "source": [
    "# Capture only different data"
   ]
  },
  {
   "cell_type": "markdown",
   "metadata": {},
   "source": [
    "Number of valid files having different number of bug-related lines"
   ]
  },
  {
   "cell_type": "code",
   "execution_count": null,
   "metadata": {},
   "outputs": [],
   "source": [
    "df_diffcid = data_merge[data_merge.iloc[:,-2:].nunique(1).gt(1)]\n",
    "\n",
    "#Save to CSV file\n",
    "df_diffcid.to_csv(analyze_dir + '05_validation/02_validfiles/validfiles_with_different_numberofbugline.csv', index=False)\n",
    "df_diffcid"
   ]
  },
  {
   "cell_type": "markdown",
   "metadata": {},
   "source": [
    "Number of bug-fix commit ID having different number of bug-related lines"
   ]
  },
  {
   "cell_type": "code",
   "execution_count": null,
   "metadata": {
    "scrolled": true
   },
   "outputs": [],
   "source": [
    "df_bugfix = data_merge.groupby('bugfix_commitID', as_index=False).agg({\"histogram_#validbugline\":\"sum\",\n",
    "                                                                           \"myers_#validbugline\":\"sum\"})\n",
    "df_bugfix"
   ]
  },
  {
   "cell_type": "code",
   "execution_count": null,
   "metadata": {
    "scrolled": true
   },
   "outputs": [],
   "source": [
    "df_diffbugfix = df_bugfix[df_bugfix.iloc[:,-2:].nunique(1).gt(1)]\n",
    "#Save to CSV file\n",
    "df_diffbugfix.to_csv(analyze_dir + '05_validation/03_validbugfixcommitid/validbugfixcid_with_different_numberofbugline.csv', index=False)\n",
    "df_diffbugfix"
   ]
  },
  {
   "cell_type": "markdown",
   "metadata": {},
   "source": [
    "# Counting the percentage and visualizing the result"
   ]
  },
  {
   "cell_type": "code",
   "execution_count": null,
   "metadata": {},
   "outputs": [],
   "source": [
    "percent = (len(df_diffbugfix)/len(df_bugfix))*100\n",
    "rest = 100 - percent\n",
    "print (\"Project name: {}\".format(proj))\n",
    "print (\"Number of valid bug-fix commit ids having different result: {}\".format(len(df_diffbugfix)))\n",
    "print (\"Number of valid bug-fix commit ids having same result: {}\".format(len(df_bugfix)-len(df_diffbugfix)))\n",
    "print (\"Total valid bug-fix commit ids: {}\".format(len(df_bugfix)))\n",
    "print (\"The percentage of different valid bug-fix commit id: {0:.2f}%\".format(percent))"
   ]
  },
  {
   "cell_type": "code",
   "execution_count": null,
   "metadata": {},
   "outputs": [],
   "source": [
    "labels = ['different number of valid bug-fix commit ids','same number of valid bug-fix commit ids']\n",
    "values = [percent, rest]\n",
    "colors = ['#E1396C','#96D38C']\n",
    "\n",
    "trace = go.Pie(\n",
    "    labels=labels, \n",
    "    values=values,\n",
    "    hoverinfo='label+percent', textinfo='value', \n",
    "               textfont=dict(size=15),\n",
    "               marker=dict(colors=colors, \n",
    "                           line=dict(color='#000000', width=2))\n",
    ")\n",
    "\n",
    "data = [trace]\n",
    "layout = go.Layout(\n",
    "    title = \"The percentage of valid bug-fix commit id based on the different number of diffs in \" + proj + \" Project\"\n",
    ")\n",
    "\n",
    "init_notebook_mode(connected=True)\n",
    "fig = go.Figure(data=data, layout=layout)\n",
    "iplot(fig, show_link=False)"
   ]
  },
  {
   "cell_type": "code",
   "execution_count": null,
   "metadata": {},
   "outputs": [],
   "source": []
  }
 ],
 "metadata": {
  "kernelspec": {
   "display_name": "Python 3",
   "language": "python",
   "name": "python3"
  },
  "language_info": {
   "codemirror_mode": {
    "name": "ipython",
    "version": 3
   },
   "file_extension": ".py",
   "mimetype": "text/x-python",
   "name": "python",
   "nbconvert_exporter": "python",
   "pygments_lexer": "ipython3",
   "version": "3.7.1"
  }
 },
 "nbformat": 4,
 "nbformat_minor": 2
}
