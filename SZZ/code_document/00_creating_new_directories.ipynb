{
 "cells": [
  {
   "cell_type": "code",
   "execution_count": null,
   "metadata": {},
   "outputs": [],
   "source": [
    "import os"
   ]
  },
  {
   "cell_type": "code",
   "execution_count": null,
   "metadata": {},
   "outputs": [],
   "source": [
    "project = \"\"        # put the cloned repository name in the project, e.g. activemq, hbase, etc.\n",
    "bugidentifier = \"\"  # put the bug identifier from the project, e.g. AMQ for activemq project, \n",
    "                    # HBASE for hbase project, etc.\n",
    "userhome = os.path.expanduser('~')\n",
    "analyze_dir = userhome + r\"/DifferentDiffAlgorithms/SZZ/\""
   ]
  },
  {
   "cell_type": "code",
   "execution_count": null,
   "metadata": {},
   "outputs": [],
   "source": [
    "dirs = ['projects_analyses/',\n",
    "        'projects_analyses/' + project + '/',\n",
    "        'projects_analyses/' + project + '/01_bug_ids_extraction/',\n",
    "        'projects_analyses/' + project + '/02_diff_extraction/',\n",
    "        'projects_analyses/' + project + '/02_diff_extraction/01_modified_files/',\n",
    "        'projects_analyses/' + project + '/02_diff_extraction/02_list_of_file_with_number_of_deletedlines/',\n",
    "        'projects_analyses/' + project + '/02_diff_extraction/03_file_having_deletedlines/',\n",
    "        'projects_analyses/' + project + '/02_diff_extraction/03_file_having_deletedlines/histogram/',\n",
    "        'projects_analyses/' + project + '/02_diff_extraction/03_file_having_deletedlines/myers/',\n",
    "        'projects_analyses/' + project + '/03_annotate/',\n",
    "        'projects_analyses/' + project + '/03_annotate/01_annotated_files/',\n",
    "        'projects_analyses/' + project + '/03_annotate/01_annotated_files/blame_histogram/',\n",
    "        'projects_analyses/' + project + '/03_annotate/01_annotated_files/blame_histogram/csv/',\n",
    "        'projects_analyses/' + project + '/03_annotate/01_annotated_files/blame_myers/',\n",
    "        'projects_analyses/' + project + '/03_annotate/01_annotated_files/blame_myers/csv/',\n",
    "        'projects_analyses/' + project + '/03_annotate/01_annotated_files/listof_diff_n_annotated_files/',\n",
    "        'projects_analyses/' + project + '/03_annotate/02_diff-file_blame-file_comparison/',\n",
    "        'projects_analyses/' + project + '/03_annotate/02_diff-file_blame-file_comparison/histogram_comparison/',\n",
    "        'projects_analyses/' + project + '/03_annotate/02_diff-file_blame-file_comparison/myers_comparison/',\n",
    "        'projects_analyses/' + project + '/04_affected_versions/',\n",
    "        'projects_analyses/' + project + '/04_affected_versions/01_no_of_bugclass/',\n",
    "        'projects_analyses/' + project + '/04_affected_versions/02_grouping_affected_non-affected_files/',\n",
    "        'projects_analyses/' + project + '/05_validation/',\n",
    "        'projects_analyses/' + project + '/05_validation/01_valid_buggyline/',\n",
    "        'projects_analyses/' + project + '/05_validation/02_validfiles/',\n",
    "        'projects_analyses/' + project + '/05_validation/03_validbugfixcommitid/',\n",
    "        'projects_analyses/' + project + '/05_validation/04_validbugintrocommitid/',\n",
    "        'projects_analyses/' + project + '/05_validation/05_stats/'\n",
    "       ]"
   ]
  },
  {
   "cell_type": "code",
   "execution_count": null,
   "metadata": {},
   "outputs": [],
   "source": [
    "for z, newpath in enumerate(dirs):\n",
    "    if not os.path.exists(analyze_dir + newpath):\n",
    "        os.makedirs(analyze_dir + newpath)"
   ]
  },
  {
   "cell_type": "code",
   "execution_count": null,
   "metadata": {},
   "outputs": [],
   "source": [
    "with open (analyze_dir + \"code_document/project_identity.txt\", mode=\"wt\", encoding=\"utf-8\") as myfile:\n",
    "    myfile.write('\\n'.join([project, bugidentifier.upper()]))\n",
    "print (\"File project_identity.txt has been created\")"
   ]
  }
 ],
 "metadata": {
  "kernelspec": {
   "display_name": "Python 3",
   "language": "python",
   "name": "python3"
  },
  "language_info": {
   "codemirror_mode": {
    "name": "ipython",
    "version": 3
   },
   "file_extension": ".py",
   "mimetype": "text/x-python",
   "name": "python",
   "nbconvert_exporter": "python",
   "pygments_lexer": "ipython3",
   "version": "3.7.1"
  }
 },
 "nbformat": 4,
 "nbformat_minor": 2
}
